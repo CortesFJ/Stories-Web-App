{
 "cells": [
  {
   "cell_type": "code",
   "execution_count": null,
   "metadata": {},
   "outputs": [],
   "source": [
    "import pandas as pd\n",
    "db = pd.read_pickle('static/lexicon.p')"
   ]
  },
  {
   "cell_type": "code",
   "execution_count": null,
   "metadata": {},
   "outputs": [],
   "source": [
    "import json\n",
    "with open('wiki_data_trans.json', 'r') as f:\n",
    "    wiki_data = json.load(f)"
   ]
  },
  {
   "cell_type": "code",
   "execution_count": null,
   "metadata": {},
   "outputs": [],
   "source": [
    "ph_dict = {}\n",
    "for k in wiki_data:\n",
    "    if 'pronunciation' in wiki_data[k]:\n",
    "        pronunciation = wiki_data[k]['pronunciation']\n",
    "        ph_dict[k]= {\n",
    "        'pronunciation':pronunciation\n",
    "        }\n",
    "\n",
    "ph_dict"
   ]
  },
  {
   "cell_type": "code",
   "execution_count": null,
   "metadata": {},
   "outputs": [],
   "source": [
    "import json\n",
    "with open('static/phAids.json', 'r') as f:\n",
    "    aids = json.load(f)\n"
   ]
  },
  {
   "cell_type": "code",
   "execution_count": null,
   "metadata": {},
   "outputs": [],
   "source": [
    "\n",
    "for k,v in aids.items():\n",
    "    if k in ph_dict:\n",
    "        ph_dict[k]['aid']=v\n",
    "    else:\n",
    "        ph_dict[k] = {\n",
    "           'aid':v \n",
    "        }"
   ]
  },
  {
   "cell_type": "code",
   "execution_count": null,
   "metadata": {},
   "outputs": [],
   "source": [
    "\n",
    "ph_dict['make']"
   ]
  },
  {
   "cell_type": "code",
   "execution_count": null,
   "metadata": {},
   "outputs": [],
   "source": [
    "\n",
    "for k,v in aids.items():\n",
    "    entry = db[db['word'] == k]\n",
    "    for i, row in entry.iterrows():\n",
    "        phonetics = db.at[i,('phonetics')]\n",
    "        if isinstance(phonetics, dict):\n",
    "            phonetics['aid'] = v\n",
    "        else:\n",
    "            phonetics = {'aid': v}\n",
    "        db.at[i,('phonetics')] = phonetics"
   ]
  },
  {
   "cell_type": "code",
   "execution_count": null,
   "metadata": {},
   "outputs": [],
   "source": [
    "db.to_pickle('lexicon.pkl')"
   ]
  },
  {
   "cell_type": "code",
   "execution_count": null,
   "metadata": {},
   "outputs": [],
   "source": [
    "db[db['word']=='always']['phonetics'].to_dict()"
   ]
  },
  {
   "cell_type": "code",
   "execution_count": null,
   "metadata": {},
   "outputs": [],
   "source": [
    "db[db['word']=='determined']['phonetics'].to_dict()"
   ]
  },
  {
   "cell_type": "code",
   "execution_count": 3,
   "metadata": {},
   "outputs": [],
   "source": [
    "import requests\n",
    "\n",
    "def get_sound_of(word):\n",
    "\tapiKey = '18daa199-2a7d-4c78-8a0d-732dda4dd277'\n",
    "\turl =f'https://www.dictionaryapi.com/api/v3/references/spanish/json/{word}?key={apiKey}'\n",
    "\n",
    "\tresponse = requests.get(url)\n",
    "\tdata = response.json()\n",
    "\taudioDir = data[0]['hwi']['prs'][0]['sound']['audio']\n",
    "\tsubDir = audioDir[0]\n",
    "\taudio_url = f'https://media.merriam-webster.com/audio/prons/en/us/mp3/{subDir}/{audioDir}.mp3'\n",
    "\taudio_response = requests.get(audio_url)\n",
    "\tprint(audio_response)\n",
    "\twith open(f'{word}.mp3', 'wb') as f:\n",
    "\t\tf.write(audio_response.content)"
   ]
  },
  {
   "cell_type": "code",
   "execution_count": 4,
   "metadata": {},
   "outputs": [
    {
     "name": "stdout",
     "output_type": "stream",
     "text": [
      "<Response [200]>\n"
     ]
    }
   ],
   "source": [
    "get_sound_of('word')"
   ]
  },
  {
   "cell_type": "code",
   "execution_count": 2,
   "metadata": {},
   "outputs": [
    {
     "ename": "ModuleNotFoundError",
     "evalue": "No module named 'aiohttp'",
     "output_type": "error",
     "traceback": [
      "\u001b[0;31m---------------------------------------------------------------------------\u001b[0m",
      "\u001b[0;31mModuleNotFoundError\u001b[0m                       Traceback (most recent call last)",
      "Cell \u001b[0;32mIn[2], line 2\u001b[0m\n\u001b[1;32m      1\u001b[0m \u001b[38;5;28;01mimport\u001b[39;00m \u001b[38;5;21;01masyncio\u001b[39;00m\n\u001b[0;32m----> 2\u001b[0m \u001b[38;5;28;01mimport\u001b[39;00m \u001b[38;5;21;01maiohttp\u001b[39;00m\n\u001b[1;32m      5\u001b[0m \u001b[38;5;28;01masync\u001b[39;00m \u001b[38;5;28;01mdef\u001b[39;00m \u001b[38;5;21mfetch_dictData\u001b[39m(word):\n\u001b[1;32m      7\u001b[0m     apiKey \u001b[38;5;241m=\u001b[39m \u001b[38;5;124m'\u001b[39m\u001b[38;5;124m18daa199-2a7d-4c78-8a0d-732dda4dd277\u001b[39m\u001b[38;5;124m'\u001b[39m\n",
      "\u001b[0;31mModuleNotFoundError\u001b[0m: No module named 'aiohttp'"
     ]
    }
   ],
   "source": [
    "\n"
   ]
  },
  {
   "cell_type": "code",
   "execution_count": 3,
   "metadata": {},
   "outputs": [
    {
     "ename": "NameError",
     "evalue": "name 'fetch_all_data' is not defined",
     "output_type": "error",
     "traceback": [
      "\u001b[0;31m---------------------------------------------------------------------------\u001b[0m",
      "\u001b[0;31mNameError\u001b[0m                                 Traceback (most recent call last)",
      "Cell \u001b[0;32mIn[3], line 2\u001b[0m\n\u001b[1;32m      1\u001b[0m elements \u001b[38;5;241m=\u001b[39m [\u001b[38;5;124m'\u001b[39m\u001b[38;5;124mstories\u001b[39m\u001b[38;5;124m'\u001b[39m, \u001b[38;5;124m'\u001b[39m\u001b[38;5;124mword\u001b[39m\u001b[38;5;124m'\u001b[39m]\n\u001b[0;32m----> 2\u001b[0m data \u001b[38;5;241m=\u001b[39m asyncio\u001b[38;5;241m.\u001b[39mrun(\u001b[43mfetch_all_data\u001b[49m(elements))\n\u001b[1;32m      3\u001b[0m \u001b[38;5;28mprint\u001b[39m(\u001b[38;5;28mtype\u001b[39m(data))\n",
      "\u001b[0;31mNameError\u001b[0m: name 'fetch_all_data' is not defined"
     ]
    }
   ],
   "source": [
    "\n",
    "elements = ['stories', 'word']\n",
    "data = asyncio.run(fetch_all_data(elements))\n",
    "print(type(data))"
   ]
  },
  {
   "cell_type": "code",
   "execution_count": null,
   "metadata": {},
   "outputs": [],
   "source": []
  }
 ],
 "metadata": {
  "kernelspec": {
   "display_name": "Python 3 (ipykernel)",
   "language": "python",
   "name": "python3"
  },
  "language_info": {
   "codemirror_mode": {
    "name": "ipython",
    "version": 3
   },
   "file_extension": ".py",
   "mimetype": "text/x-python",
   "name": "python",
   "nbconvert_exporter": "python",
   "pygments_lexer": "ipython3",
   "version": "3.10.6"
  },
  "vscode": {
   "interpreter": {
    "hash": "ead1b95f633dc9c51826328e1846203f51a198c6fb5f2884a80417ba131d4e82"
   }
  }
 },
 "nbformat": 4,
 "nbformat_minor": 2
}
