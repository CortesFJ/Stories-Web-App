{
 "cells": [
  {
   "cell_type": "code",
   "execution_count": null,
   "metadata": {},
   "outputs": [],
   "source": [
    "import pandas as pd\n",
    "db = pd.read_pickle('static/lexicon.pkl')\n",
    "db\n"
   ]
  },
  {
   "cell_type": "code",
   "execution_count": null,
   "metadata": {},
   "outputs": [],
   "source": [
    "import json\n",
    "with open('wiki_data_trans.json', 'r') as f:\n",
    "    wiki_data = json.load(f)"
   ]
  },
  {
   "cell_type": "code",
   "execution_count": null,
   "metadata": {},
   "outputs": [],
   "source": [
    "ph_dict = {}\n",
    "for k in wiki_data:\n",
    "    if 'pronunciation' in wiki_data[k]:\n",
    "        pronunciation = wiki_data[k]['pronunciation']\n",
    "        ph_dict[k]= {\n",
    "        'pronunciation':pronunciation\n",
    "        }\n",
    "\n",
    "ph_dict"
   ]
  },
  {
   "cell_type": "code",
   "execution_count": null,
   "metadata": {},
   "outputs": [],
   "source": [
    "import json\n",
    "with open('static/phAids.json', 'r') as f:\n",
    "    aids = json.load(f)\n"
   ]
  },
  {
   "cell_type": "code",
   "execution_count": null,
   "metadata": {},
   "outputs": [],
   "source": [
    "\n",
    "for k,v in aids.items():\n",
    "    if k in ph_dict:\n",
    "        ph_dict[k]['aid']=v\n",
    "    else:\n",
    "        ph_dict[k] = {\n",
    "           'aid':v \n",
    "        }"
   ]
  },
  {
   "cell_type": "code",
   "execution_count": null,
   "metadata": {},
   "outputs": [],
   "source": [
    "\n",
    "ph_dict['make']"
   ]
  },
  {
   "cell_type": "code",
   "execution_count": null,
   "metadata": {},
   "outputs": [],
   "source": [
    "\n",
    "for k,v in aids.items():\n",
    "    entry = db[db['word'] == k]\n",
    "    for i, row in entry.iterrows():\n",
    "        phonetics = db.at[i,('phonetics')]\n",
    "        if isinstance(phonetics, dict):\n",
    "            phonetics['aid'] = v\n",
    "        else:\n",
    "            phonetics = {'aid': v}\n",
    "        db.at[i,('phonetics')] = phonetics"
   ]
  },
  {
   "cell_type": "code",
   "execution_count": null,
   "metadata": {},
   "outputs": [],
   "source": [
    "db.to_pickle('lexicon.pkl')"
   ]
  },
  {
   "cell_type": "code",
   "execution_count": null,
   "metadata": {},
   "outputs": [],
   "source": [
    "db[db['word']=='always']['phonetics'].to_dict()"
   ]
  },
  {
   "cell_type": "code",
   "execution_count": null,
   "metadata": {},
   "outputs": [],
   "source": [
    "db[db['word']=='determined']['phonetics'].to_dict()"
   ]
  },
  {
   "cell_type": "code",
   "execution_count": null,
   "metadata": {},
   "outputs": [],
   "source": [
    "import requests\n",
    "\n",
    "def get_sound_of(word):\n",
    "\tapiKey = '18daa199-2a7d-4c78-8a0d-732dda4dd277'\n",
    "\turl =f'https://www.dictionaryapi.com/api/v3/references/spanish/json/{word}?key={apiKey}'\n",
    "\n",
    "\tresponse = requests.get(url)\n",
    "\tdata = response.json()\n",
    "\taudioDir = data[0]['hwi']['prs'][0]['sound']['audio']\n",
    "\tsubDir = audioDir[0]\n",
    "\taudio_url = f'https://media.merriam-webster.com/audio/prons/en/us/mp3/{subDir}/{audioDir}.mp3'\n",
    "\taudio_response = requests.get(audio_url)\n",
    "\tprint(audio_response)\n",
    "\twith open(f'{word}.mp3', 'wb') as f:\n",
    "\t\tf.write(audio_response.content)"
   ]
  },
  {
   "cell_type": "code",
   "execution_count": null,
   "metadata": {},
   "outputs": [],
   "source": [
    "get_sound_of('word')"
   ]
  },
  {
   "cell_type": "code",
   "execution_count": null,
   "metadata": {},
   "outputs": [],
   "source": [
    "\n"
   ]
  },
  {
   "cell_type": "code",
   "execution_count": null,
   "metadata": {},
   "outputs": [],
   "source": [
    "\n",
    "elements = ['stories', 'word']\n",
    "data = asyncio.run(fetch_all_data(elements))\n",
    "print(type(data))"
   ]
  },
  {
   "cell_type": "code",
   "execution_count": 63,
   "metadata": {},
   "outputs": [],
   "source": [
    "from google.cloud import language_v1\n",
    "\n",
    "client = language_v1.LanguageServiceClient()\n",
    "text = 'this is a text for testing and all I want is it to go well '"
   ]
  },
  {
   "cell_type": "code",
   "execution_count": 57,
   "metadata": {},
   "outputs": [],
   "source": [
    "document = language_v1.Document(\n",
    "    content=text, type=language_v1.Document.Type.PLAIN_TEXT)\n",
    "encoding_type = language_v1.EncodingType.UTF8\n",
    "language = \"en\"\n",
    "\n",
    "\n",
    "response = client.analyze_syntax(\n",
    "    request={\"document\": document,\n",
    "             \"encoding_type\": encoding_type}\n",
    ")\n"
   ]
  },
  {
   "cell_type": "code",
   "execution_count": 58,
   "metadata": {},
   "outputs": [
    {
     "data": {
      "text/plain": [
       "['__bool__',\n",
       " '__class__',\n",
       " '__contains__',\n",
       " '__delattr__',\n",
       " '__dir__',\n",
       " '__eq__',\n",
       " '__format__',\n",
       " '__ge__',\n",
       " '__getattr__',\n",
       " '__getattribute__',\n",
       " '__getstate__',\n",
       " '__gt__',\n",
       " '__init__',\n",
       " '__init_subclass__',\n",
       " '__le__',\n",
       " '__lt__',\n",
       " '__ne__',\n",
       " '__new__',\n",
       " '__reduce__',\n",
       " '__reduce_ex__',\n",
       " '__repr__',\n",
       " '__setattr__',\n",
       " '__setstate__',\n",
       " '__sizeof__',\n",
       " '__str__',\n",
       " '__subclasshook__']"
      ]
     },
     "execution_count": 58,
     "metadata": {},
     "output_type": "execute_result"
    }
   ],
   "source": [
    "object_methods = [method_name for method_name in dir(response)\n",
    "                  if callable(getattr(response, method_name))]\n",
    "\n",
    "object_methods"
   ]
  },
  {
   "cell_type": "code",
   "execution_count": 64,
   "metadata": {},
   "outputs": [
    {
     "data": {
      "text/plain": [
       "dict"
      ]
     },
     "execution_count": 64,
     "metadata": {},
     "output_type": "execute_result"
    }
   ],
   "source": [
    "import json\n",
    "result_json = response.__class__.to_json(response)\n",
    "result_dict = json.loads(result_json)\n",
    "type(result_dict)"
   ]
  },
  {
   "cell_type": "code",
   "execution_count": null,
   "metadata": {},
   "outputs": [],
   "source": []
  },
  {
   "cell_type": "code",
   "execution_count": 60,
   "metadata": {},
   "outputs": [
    {
     "name": "stdout",
     "output_type": "stream",
     "text": [
      "this is a text for testing and all I want is it to go well\n"
     ]
    }
   ],
   "source": [
    "for sent in response.sentences:\n",
    "    print(sent.text.content)"
   ]
  },
  {
   "cell_type": "code",
   "execution_count": null,
   "metadata": {},
   "outputs": [],
   "source": [
    "print(response)"
   ]
  },
  {
   "cell_type": "code",
   "execution_count": null,
   "metadata": {},
   "outputs": [],
   "source": []
  }
 ],
 "metadata": {
  "kernelspec": {
   "display_name": "Python 3 (ipykernel)",
   "language": "python",
   "name": "python3"
  },
  "language_info": {
   "codemirror_mode": {
    "name": "ipython",
    "version": 3
   },
   "file_extension": ".py",
   "mimetype": "text/x-python",
   "name": "python",
   "nbconvert_exporter": "python",
   "pygments_lexer": "ipython3",
   "version": "3.11.0"
  },
  "vscode": {
   "interpreter": {
    "hash": "ead1b95f633dc9c51826328e1846203f51a198c6fb5f2884a80417ba131d4e82"
   }
  }
 },
 "nbformat": 4,
 "nbformat_minor": 2
}
